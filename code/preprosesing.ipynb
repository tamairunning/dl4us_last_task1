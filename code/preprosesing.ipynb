{
 "cells": [
  {
   "cell_type": "code",
   "execution_count": 1,
   "metadata": {},
   "outputs": [
    {
     "name": "stderr",
     "output_type": "stream",
     "text": [
      "Using TensorFlow backend.\n"
     ]
    }
   ],
   "source": [
    "%matplotlib inline\n",
    "import matplotlib.pyplot as plt\n",
    "import numpy as np\n",
    "import os\n",
    "from PIL import Image\n",
    "\n",
    "from keras.preprocessing.image import load_img, img_to_array"
   ]
  },
  {
   "cell_type": "markdown",
   "metadata": {},
   "source": [
    "リストを読み込んで配列に。改行記号除く。"
   ]
  },
  {
   "cell_type": "code",
   "execution_count": 2,
   "metadata": {},
   "outputs": [
    {
     "name": "stdout",
     "output_type": "stream",
     "text": [
      "['11.png\\n', '12.png\\n', '13.png\\n']\n",
      "1132\n"
     ]
    }
   ],
   "source": [
    "tmp_1 = open('/root/userspace/data/text/list1.txt', 'r')\n",
    "mol_list1 = tmp_1.readlines()\n",
    "\n",
    "print(mol_list1[0:3])\n",
    "print(len(mol_list1))"
   ]
  },
  {
   "cell_type": "code",
   "execution_count": 3,
   "metadata": {},
   "outputs": [
    {
     "name": "stdout",
     "output_type": "stream",
     "text": [
      "['11.png', '12.png', '13.png']\n"
     ]
    }
   ],
   "source": [
    "for i in range(len(mol_list1)):\n",
    "  mol_list1[i] = mol_list1[i].strip()\n",
    "\n",
    "print(mol_list1[0:3])"
   ]
  },
  {
   "cell_type": "code",
   "execution_count": 7,
   "metadata": {},
   "outputs": [
    {
     "name": "stdout",
     "output_type": "stream",
     "text": [
      "<class 'numpy.ndarray'>\n",
      "(300, 300, 1)\n"
     ]
    }
   ],
   "source": [
    "#画像読み込みテスト\n",
    "tmp_img1 = load_img(\"/root/userspace/data/image/mol_list1/13.png\", \"r\")\n",
    "\n",
    "tmp_array1 = img_to_array(tmp_img1)\n",
    "print(type(tmp_array1))\n",
    "\n",
    "print(tmp_array1.shape)\n",
    "\n",
    "#plt.imshow(tmp_img1)\n",
    "#plt.show()"
   ]
  },
  {
   "cell_type": "code",
   "execution_count": 2,
   "metadata": {},
   "outputs": [
    {
     "name": "stdout",
     "output_type": "stream",
     "text": [
      "(300, 300, 3)\n"
     ]
    }
   ],
   "source": [
    "#pillow1での画像読み込みテスト\n",
    "tmp_img2 = Image.open(\"/root/userspace/data/image/mol_list1/12.png\")\n",
    "tmp_img2 = tmp_img2.convert(\"RGB\")\n",
    "\n",
    "tmp_array2 = np.asarray(tmp_img2)\n",
    "print(tmp_array2.shape)\n"
   ]
  },
  {
   "cell_type": "code",
   "execution_count": 3,
   "metadata": {},
   "outputs": [
    {
     "data": {
      "image/png": "[encoded data removed]",
      "text/plain": [
       "<matplotlib.figure.Figure at 0x7efcf6c7c6a0>"
      ]
     },
     "metadata": {},
     "output_type": "display_data"
    }
   ],
   "source": [
    "plt.imshow(tmp_img2)\n",
    "plt.show()"
   ]
  },
  {
   "cell_type": "code",
   "execution_count": 5,
   "metadata": {},
   "outputs": [
    {
     "name": "stdout",
     "output_type": "stream",
     "text": [
      "(1132, 300, 300, 3)\n"
     ]
    }
   ],
   "source": [
    "img_list1 = []\n",
    "\n",
    "img_path = \"/root/userspace/data/image/mol_list1/\"\n",
    "\n",
    "for file_name in mol_list1:\n",
    "    tmp_img = Image.open(img_path + file_name)\n",
    "    tmp_img = tmp_img.convert(\"RGB\")\n",
    "    tmp_array = np.asarray(tmp_img)\n",
    "    img_list1.append(tmp_array)\n",
    "\n",
    "img_array1 = np.array(img_list1)\n",
    "print(img_array1.shape)"
   ]
  },
  {
   "cell_type": "code",
   "execution_count": 7,
   "metadata": {},
   "outputs": [
    {
     "name": "stdout",
     "output_type": "stream",
     "text": [
      "(752, 300, 300, 3)\n"
     ]
    }
   ],
   "source": [
    "tmp_2 = open('/root/userspace/data/text/list2.txt', 'r')\n",
    "mol_list2 = tmp_2.readlines()\n",
    "for i in range(len(mol_list2)):\n",
    "  mol_list2[i] = mol_list2[i].strip()\n",
    "\n",
    "img_list2 = []\n",
    "\n",
    "img_path = \"/root/userspace/data/image/mol_list2/\"\n",
    "\n",
    "for file_name in mol_list2:\n",
    "    tmp_img = Image.open(img_path + file_name)\n",
    "    tmp_img = tmp_img.convert(\"RGB\")\n",
    "    tmp_array = np.asarray(tmp_img)\n",
    "    img_list2.append(tmp_array)\n",
    "\n",
    "img_array2 = np.array(img_list2)\n",
    "print(img_array2.shape)"
   ]
  },
  {
   "cell_type": "code",
   "execution_count": 8,
   "metadata": {},
   "outputs": [
    {
     "name": "stdout",
     "output_type": "stream",
     "text": [
      "(1196, 300, 300, 3)\n",
      "(858, 300, 300, 3)\n",
      "(1173, 300, 300, 3)\n",
      "(678, 300, 300, 3)\n"
     ]
    }
   ],
   "source": [
    "tmp_3 = open('/root/userspace/data/text/list3.txt', 'r')\n",
    "mol_list3 = tmp_3.readlines()\n",
    "for i in range(len(mol_list3)):\n",
    "  mol_list3[i] = mol_list3[i].strip()\n",
    "\n",
    "img_list3 = []\n",
    "\n",
    "img_path = \"/root/userspace/data/image/mol_list3/\"\n",
    "\n",
    "for file_name in mol_list3:\n",
    "    tmp_img = Image.open(img_path + file_name)\n",
    "    tmp_img = tmp_img.convert(\"RGB\")\n",
    "    tmp_array = np.asarray(tmp_img)\n",
    "    img_list3.append(tmp_array)\n",
    "\n",
    "img_array3 = np.array(img_list3)\n",
    "print(img_array3.shape)\n",
    "\n",
    "tmp_4 = open('/root/userspace/data/text/list4.txt', 'r')\n",
    "mol_list4 = tmp_4.readlines()\n",
    "for i in range(len(mol_list4)):\n",
    "  mol_list4[i] = mol_list4[i].strip()\n",
    "\n",
    "img_list4 = []\n",
    "\n",
    "img_path = \"/root/userspace/data/image/mol_list4/\"\n",
    "\n",
    "for file_name in mol_list4:\n",
    "    tmp_img = Image.open(img_path + file_name)\n",
    "    tmp_img = tmp_img.convert(\"RGB\")\n",
    "    tmp_array = np.asarray(tmp_img)\n",
    "    img_list4.append(tmp_array)\n",
    "\n",
    "img_array4 = np.array(img_list4)\n",
    "print(img_array4.shape)\n",
    "\n",
    "tmp_5 = open('/root/userspace/data/text/list5.txt', 'r')\n",
    "mol_list5 = tmp_5.readlines()\n",
    "for i in range(len(mol_list5)):\n",
    "  mol_list5[i] = mol_list5[i].strip()\n",
    "\n",
    "img_list5 = []\n",
    "\n",
    "img_path = \"/root/userspace/data/image/mol_list5/\"\n",
    "\n",
    "for file_name in mol_list5:\n",
    "    tmp_img = Image.open(img_path + file_name)\n",
    "    tmp_img = tmp_img.convert(\"RGB\")\n",
    "    tmp_array = np.asarray(tmp_img)\n",
    "    img_list5.append(tmp_array)\n",
    "\n",
    "img_array5 = np.array(img_list5)\n",
    "print(img_array5.shape)\n",
    "\n",
    "tmp_6 = open('/root/userspace/data/text/list6.txt', 'r')\n",
    "mol_list6 = tmp_6.readlines()\n",
    "for i in range(len(mol_list6)):\n",
    "  mol_list6[i] = mol_list6[i].strip()\n",
    "\n",
    "img_list6 = []\n",
    "\n",
    "img_path = \"/root/userspace/data/image/mol_list6/\"\n",
    "\n",
    "for file_name in mol_list6:\n",
    "    tmp_img = Image.open(img_path + file_name)\n",
    "    tmp_img = tmp_img.convert(\"RGB\")\n",
    "    tmp_array = np.asarray(tmp_img)\n",
    "    img_list6.append(tmp_array)\n",
    "\n",
    "img_array6 = np.array(img_list6)\n",
    "print(img_array6.shape)"
   ]
  },
  {
   "cell_type": "code",
   "execution_count": 10,
   "metadata": {},
   "outputs": [
    {
     "name": "stdout",
     "output_type": "stream",
     "text": [
      "(5789, 300, 300, 3)\n"
     ]
    }
   ],
   "source": [
    "img_array_all = np.r_[img_array1, img_array2, img_array3, img_array4, img_array5, img_array6]\n",
    "\n",
    "print(img_array_all.shape)"
   ]
  },
  {
   "cell_type": "code",
   "execution_count": 11,
   "metadata": {},
   "outputs": [],
   "source": [
    "np.save(\"/root/userspace/data/data/img_array.npy\", img_array_all)"
   ]
  },
  {
   "cell_type": "code",
   "execution_count": null,
   "metadata": {},
   "outputs": [],
   "source": []
  }
 ],
 "metadata": {
  "kernelspec": {
   "display_name": "Python 3",
   "language": "python",
   "name": "python3"
  },
  "language_info": {
   "codemirror_mode": {
    "name": "ipython",
    "version": 3
   },
   "file_extension": ".py",
   "mimetype": "text/x-python",
   "name": "python",
   "nbconvert_exporter": "python",
   "pygments_lexer": "ipython3",
   "version": "3.5.2"
  }
 },
 "nbformat": 4,
 "nbformat_minor": 2
}
