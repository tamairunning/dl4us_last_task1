{
 "cells": [
  {
   "cell_type": "code",
   "execution_count": 1,
   "metadata": {},
   "outputs": [
    {
     "name": "stderr",
     "output_type": "stream",
     "text": [
      "Using TensorFlow backend.\n"
     ]
    }
   ],
   "source": [
    "%matplotlib inline\n",
    "\n",
    "import numpy as np\n",
    "import os\n",
    "import matplotlib.pyplot as plt\n",
    "\n",
    "import keras\n",
    "import tensorflow as tf\n",
    "from keras.backend import tensorflow_backend\n",
    "\n",
    "config = tf.ConfigProto(gpu_options=tf.GPUOptions(allow_growth=True))\n",
    "session = tf.Session(config=config)\n",
    "tensorflow_backend.set_session(session)"
   ]
  },
  {
   "cell_type": "code",
   "execution_count": 2,
   "metadata": {},
   "outputs": [],
   "source": [
    "from keras.preprocessing.image import array_to_img, img_to_array, list_pictures, load_img\n"
   ]
  },
  {
   "cell_type": "code",
   "execution_count": 3,
   "metadata": {},
   "outputs": [
    {
     "name": "stdout",
     "output_type": "stream",
     "text": [
      "(300, 300, 3)\n"
     ]
    }
   ],
   "source": [
    "img1 = load_img(\"../Test_Data/mol_img1/11.png\")\n",
    "\n",
    "img1_array  = img_to_array(img1)\n",
    "print(img1_array.shape)"
   ]
  },
  {
   "cell_type": "code",
   "execution_count": 6,
   "metadata": {},
   "outputs": [
    {
     "name": "stdout",
     "output_type": "stream",
     "text": [
      "../Test_Data/mol_img1/11.png\n",
      "../Test_Data/mol_img1/11.png\n",
      "../Test_Data/mol_img1/174.png\n",
      "../Test_Data/mol_img1/6326782.png\n"
     ]
    }
   ],
   "source": [
    "img_path = \"../Test_Data/mol_img1/\"\n",
    "tmp_list = [\"11.png\", \"174.png\", \"6326782.png\"]\n",
    "\n",
    "print(img_path + \"11.png\")\n",
    "\n",
    "for item in tmp_list:\n",
    "    print(img_path + item)\n"
   ]
  },
  {
   "cell_type": "code",
   "execution_count": 8,
   "metadata": {},
   "outputs": [
    {
     "name": "stdout",
     "output_type": "stream",
     "text": [
      "<class 'list'>\n",
      "(3, 300, 300, 3)\n"
     ]
    }
   ],
   "source": [
    "img_list = []\n",
    "\n",
    "for item in tmp_list:\n",
    "    tmp_img = load_img(img_path + item)\n",
    "    tmp_array = img_to_array(tmp_img)\n",
    "    img_list.append(tmp_array)\n",
    "\n",
    "\n",
    "print(type(img_list))\n",
    "\n",
    "img_array = np.array(img_list)\n",
    "print(img_array.shape)"
   ]
  },
  {
   "cell_type": "code",
   "execution_count": 10,
   "metadata": {},
   "outputs": [
    {
     "name": "stdout",
     "output_type": "stream",
     "text": [
      "<class 'list'>\n",
      "56\n"
     ]
    }
   ],
   "source": [
    "text_1 = open(\"../Test_Data/list1.txt\", \"r\")\n",
    "mol_list = text_1.readlines()\n",
    "text_1.close()\n",
    "\n",
    "print(type(mol_list))\n",
    "print(len(mol_list))"
   ]
  },
  {
   "cell_type": "code",
   "execution_count": 11,
   "metadata": {},
   "outputs": [
    {
     "name": "stdout",
     "output_type": "stream",
     "text": [
      "['11.png\\n', '174.png\\n', '175.png\\n']\n"
     ]
    }
   ],
   "source": [
    "print(mol_list[0:3])"
   ]
  },
  {
   "cell_type": "code",
   "execution_count": 12,
   "metadata": {},
   "outputs": [
    {
     "name": "stdout",
     "output_type": "stream",
     "text": [
      "['11.png', '174.png', '175.png']\n"
     ]
    }
   ],
   "source": [
    "for i in range(len(mol_list)):\n",
    "    mol_list[i] = mol_list[i].strip()\n",
    "\n",
    "print(mol_list[0:3])"
   ]
  },
  {
   "cell_type": "code",
   "execution_count": 13,
   "metadata": {},
   "outputs": [
    {
     "name": "stdout",
     "output_type": "stream",
     "text": [
      "(56, 300, 300, 3)\n"
     ]
    }
   ],
   "source": [
    "img_list = []\n",
    "\n",
    "for item in mol_list:\n",
    "    tmp_img = load_img(img_path + item)\n",
    "    tmp_array = img_to_array(tmp_img)\n",
    "    img_list.append(tmp_array)\n",
    "\n",
    "img_array = np.array(img_list)\n",
    "print(img_array.shape)\n"
   ]
  },
  {
   "cell_type": "code",
   "execution_count": 14,
   "metadata": {},
   "outputs": [
    {
     "data": {
      "image/png": "[encoded data removed]",
      "text/plain": [
       "<Figure size 432x288 with 1 Axes>"
      ]
     },
     "metadata": {},
     "output_type": "display_data"
    }
   ],
   "source": [
    "#画像の表示（keras版、あまりきれいじゃない。）\n",
    "\n",
    "plt.imshow(img1)\n",
    "plt.show()"
   ]
  },
  {
   "cell_type": "code",
   "execution_count": 17,
   "metadata": {},
   "outputs": [
    {
     "data": {
      "image/png": "[encoded data removed]",
      "text/plain": [
       "<Figure size 432x288 with 1 Axes>"
      ]
     },
     "metadata": {},
     "output_type": "display_data"
    }
   ],
   "source": [
    "# pillowを使うと（変わらなかった）\n",
    "\n",
    "from PIL import Image\n",
    "\n",
    "im = Image.open(\"../Test_Data/mol_img1/11.png\")\n",
    "\n",
    "plt.imshow(im)\n",
    "plt.show()"
   ]
  },
  {
   "cell_type": "code",
   "execution_count": null,
   "metadata": {},
   "outputs": [],
   "source": []
  }
 ],
 "metadata": {
  "kernelspec": {
   "display_name": "Python 3",
   "language": "python",
   "name": "python3"
  },
  "language_info": {
   "codemirror_mode": {
    "name": "ipython",
    "version": 3
   },
   "file_extension": ".py",
   "mimetype": "text/x-python",
   "name": "python",
   "nbconvert_exporter": "python",
   "pygments_lexer": "ipython3",
   "version": "3.6.4"
  }
 },
 "nbformat": 4,
 "nbformat_minor": 2
}
