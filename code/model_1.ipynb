{
 "cells": [
  {
   "cell_type": "markdown",
   "metadata": {},
   "source": [
    "キャプションデータの読み込み"
   ]
  },
  {
   "cell_type": "code",
   "execution_count": 1,
   "metadata": {},
   "outputs": [],
   "source": [
    "import numpy as np\n",
    "import os\n"
   ]
  },
  {
   "cell_type": "code",
   "execution_count": 3,
   "metadata": {},
   "outputs": [
    {
     "name": "stdout",
     "output_type": "stream",
     "text": [
      "1130\n"
     ]
    }
   ],
   "source": [
    "whole_texts1 = []\n",
    "\n",
    "test_data = open(\"/root/userspace/data/text/caption1.txt\", \"r\")\n",
    "for line in test_data:\n",
    "    whole_texts1.append(line)\n",
    "\n",
    "print(len(whole_texts1))"
   ]
  },
  {
   "cell_type": "code",
   "execution_count": 4,
   "metadata": {},
   "outputs": [
    {
     "name": "stdout",
     "output_type": "stream",
     "text": [
      "1876\n"
     ]
    }
   ],
   "source": [
    "# whole_textsに追記したい\n",
    "\n",
    "test_data = open(\"/root/userspace/data/text/caption2.txt\", \"r\")\n",
    "for line in test_data:\n",
    "    whole_texts1.append(line)\n",
    "\n",
    "print(len(whole_texts1))"
   ]
  },
  {
   "cell_type": "code",
   "execution_count": 5,
   "metadata": {},
   "outputs": [
    {
     "name": "stdout",
     "output_type": "stream",
     "text": [
      "5771\n"
     ]
    }
   ],
   "source": [
    "test_data = open(\"/root/userspace/data/text/caption3.txt\", \"r\")\n",
    "for line in test_data:\n",
    "    whole_texts1.append(line)\n",
    "\n",
    "test_data = open(\"/root/userspace/data/text/caption4.txt\", \"r\")\n",
    "for line in test_data:\n",
    "    whole_texts1.append(line)\n",
    "\n",
    "test_data = open(\"/root/userspace/data/text/caption5.txt\", \"r\")\n",
    "for line in test_data:\n",
    "    whole_texts1.append(line)\n",
    "\n",
    "test_data = open(\"/root/userspace/data/text/caption6.txt\", \"r\")\n",
    "for line in test_data:\n",
    "    whole_texts1.append(line)\n",
    "\n",
    "print(len(whole_texts1))"
   ]
  },
  {
   "cell_type": "code",
   "execution_count": 6,
   "metadata": {},
   "outputs": [
    {
     "name": "stdout",
     "output_type": "stream",
     "text": [
      " 1 , 2 - di chloro ethane \n",
      "\n"
     ]
    }
   ],
   "source": [
    "print(whole_texts1[0])"
   ]
  },
  {
   "cell_type": "code",
   "execution_count": 9,
   "metadata": {},
   "outputs": [
    {
     "name": "stdout",
     "output_type": "stream",
     "text": [
      "<s> 1 , 2 - di chloro ethane </s>\n"
     ]
    }
   ],
   "source": [
    "for i in range(len(whole_texts1)):\n",
    "  whole_texts1[i] = \"<s> \" + whole_texts1[i].strip() + \" </s>\"\n",
    "\n",
    "print(whole_texts1[0])"
   ]
  },
  {
   "cell_type": "code",
   "execution_count": 10,
   "metadata": {},
   "outputs": [
    {
     "name": "stderr",
     "output_type": "stream",
     "text": [
      "Using TensorFlow backend.\n"
     ]
    },
    {
     "name": "stdout",
     "output_type": "stream",
     "text": [
      "<s> 1 , 2 - di chloro ethane </s>\n",
      "[2, 5, 6, 4, 1, 11, 12, 29, 3]\n",
      "950\n"
     ]
    }
   ],
   "source": [
    "import keras\n",
    "from keras.preprocessing.text import Tokenizer\n",
    "\n",
    "tokenizer_iu = Tokenizer(filters=\"\")\n",
    "\n",
    "tokenizer_iu.fit_on_texts(whole_texts1)\n",
    "train_y = tokenizer_iu.texts_to_sequences(whole_texts1)\n",
    "\n",
    "print(whole_texts1[0])\n",
    "print(train_y[0])\n",
    "\n",
    "print(len(tokenizer_iu.word_index))"
   ]
  },
  {
   "cell_type": "code",
   "execution_count": 15,
   "metadata": {},
   "outputs": [
    {
     "name": "stdout",
     "output_type": "stream",
     "text": [
      "(5771, 32)\n"
     ]
    }
   ],
   "source": [
    "from keras.preprocessing.sequence import pad_sequences\n",
    "\n",
    "train_y = pad_sequences(train_y, padding='post')\n",
    "\n",
    "vocab_size = len(tokenizer_iu.word_index) + 1\n",
    "\n",
    "seq_len = len(train_y[0])\n",
    "\n",
    "print(train_y.shape)"
   ]
  },
  {
   "cell_type": "markdown",
   "metadata": {},
   "source": [
    "処理済みデータを保存したかったが、Tokenizerとセットでないと無意味なので諦めた。\n",
    "\n",
    "モデル作成。エンコーダは学習済みモデルを通したベクトル値をインプットにDense層をかけたもの、\n",
    "デコーダは上記をinputにEmbedding層ーLSTMで内部状態の初期値をエンコーダから貰う。\n",
    "学習済みモデルは、VGGのものからモデルを作ってみる。Attensionはつけないモデルで。"
   ]
  },
  {
   "cell_type": "code",
   "execution_count": null,
   "metadata": {},
   "outputs": [],
   "source": []
  }
 ],
 "metadata": {
  "kernelspec": {
   "display_name": "Python 3",
   "language": "python",
   "name": "python3"
  },
  "language_info": {
   "codemirror_mode": {
    "name": "ipython",
    "version": 3
   },
   "file_extension": ".py",
   "mimetype": "text/x-python",
   "name": "python",
   "nbconvert_exporter": "python",
   "pygments_lexer": "ipython3",
   "version": "3.5.2"
  }
 },
 "nbformat": 4,
 "nbformat_minor": 2
}
