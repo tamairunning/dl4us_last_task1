{
 "cells": [
  {
   "cell_type": "code",
   "execution_count": 1,
   "metadata": {},
   "outputs": [
    {
     "name": "stdout",
     "output_type": "stream",
     "text": [
      "['186114\\n', '649\\n', '5460726\\n']\n",
      "5370\n"
     ]
    }
   ],
   "source": [
    "import numpy as np\n",
    "import os\n",
    "from PIL import Image\n",
    "\n",
    "tmp_1 = open('/root/userspace/data/text/imglist_train.txt', 'r')\n",
    "mol_list1 = tmp_1.readlines()\n",
    "\n",
    "print(mol_list1[0:3])\n",
    "print(len(mol_list1))"
   ]
  },
  {
   "cell_type": "code",
   "execution_count": 2,
   "metadata": {},
   "outputs": [
    {
     "name": "stdout",
     "output_type": "stream",
     "text": [
      "['186114', '649', '5460726']\n"
     ]
    }
   ],
   "source": [
    "for i in range(len(mol_list1)):\n",
    "    mol_list1[i] = mol_list1[i].strip()\n",
    "\n",
    "print(mol_list1[0:3])"
   ]
  },
  {
   "cell_type": "code",
   "execution_count": 3,
   "metadata": {},
   "outputs": [
    {
     "name": "stdout",
     "output_type": "stream",
     "text": [
      "(5370, 300, 300, 3)\n"
     ]
    }
   ],
   "source": [
    "train_list3 =[]\n",
    "\n",
    "img_path = \"/root/userspace/data/image/mol_img_all/\"\n",
    "\n",
    "#train_list1 = mol_list1[0:1100]\n",
    "#train_list2 = mol_list1[1100:2200]\n",
    "#train_list3 = mol_list1[2200:3300]\n",
    "#train_list4 = mol_list1[3300:4370]\n",
    "#train_list5 = mol_list1[4370:5370]\n",
    "\n",
    "for file_name in mol_list1:\n",
    "    file_name = str(file_name)\n",
    "    tmp_img = Image.open(img_path + file_name + \".png\")\n",
    "    tmp_img = tmp_img.convert(\"RGB\")\n",
    "    tmp_img2 = tmp_img.rotate(180)\n",
    "    tmp_array = np.asarray(tmp_img2)\n",
    "    train_list3.append(tmp_array)\n",
    "\n",
    "train_array3 = np.array(train_list3)\n",
    "print(train_array3.shape)"
   ]
  },
  {
   "cell_type": "code",
   "execution_count": 4,
   "metadata": {},
   "outputs": [],
   "source": [
    "#image_arrayの保存\n",
    "\n",
    "np.save(\"/root/userspace/data/data/trainx_array3.npy\", train_array3)"
   ]
  },
  {
   "cell_type": "code",
   "execution_count": 5,
   "metadata": {},
   "outputs": [
    {
     "name": "stderr",
     "output_type": "stream",
     "text": [
      "Using TensorFlow backend.\n"
     ]
    },
    {
     "name": "stdout",
     "output_type": "stream",
     "text": [
      "(5370, 9, 9, 512)\n"
     ]
    }
   ],
   "source": [
    "from keras.applications.vgg16 import VGG16\n",
    "encoder  = VGG16(weights='imagenet', input_shape=(300, 300, 3) ,include_top=False)\n",
    "\n",
    "# 画像データをVGGモデルに通す。入力時にf\n",
    "vgg_train1 = encoder.predict(np.array(train_array3, dtype='f')/255)\n",
    "\n",
    "print(vgg_train1.shape)"
   ]
  },
  {
   "cell_type": "code",
   "execution_count": 7,
   "metadata": {},
   "outputs": [],
   "source": [
    "#vgg_arrayの保存\n",
    "\n",
    "np.save(\"/root/userspace/data/data/vgg_array3.npy\", vgg_train1)"
   ]
  },
  {
   "cell_type": "code",
   "execution_count": 8,
   "metadata": {},
   "outputs": [
    {
     "name": "stdout",
     "output_type": "stream",
     "text": [
      "(5370, 300, 300, 3)\n"
     ]
    }
   ],
   "source": [
    "train_list4 =[]\n",
    "\n",
    "for file_name in mol_list1:\n",
    "    file_name = str(file_name)\n",
    "    tmp_img = Image.open(img_path + file_name + \".png\")\n",
    "    tmp_img = tmp_img.convert(\"RGB\")\n",
    "    tmp_img2 = tmp_img.rotate(270)\n",
    "    tmp_array = np.asarray(tmp_img2)\n",
    "    train_list4.append(tmp_array)\n",
    "\n",
    "train_array4 = np.array(train_list4)\n",
    "print(train_array4.shape)"
   ]
  },
  {
   "cell_type": "code",
   "execution_count": 9,
   "metadata": {},
   "outputs": [],
   "source": [
    "#image_arrayの保存\n",
    "\n",
    "np.save(\"/root/userspace/data/data/trainx_array4.npy\", train_array4)"
   ]
  },
  {
   "cell_type": "code",
   "execution_count": 10,
   "metadata": {},
   "outputs": [
    {
     "name": "stdout",
     "output_type": "stream",
     "text": [
      "(5370, 9, 9, 512)\n"
     ]
    }
   ],
   "source": [
    "# 画像データをVGGモデルに通す。入力時にf\n",
    "vgg_train4 = encoder.predict(np.array(train_array4, dtype='f')/255)\n",
    "\n",
    "print(vgg_train4.shape)"
   ]
  },
  {
   "cell_type": "code",
   "execution_count": 11,
   "metadata": {},
   "outputs": [],
   "source": [
    "#vgg_array2の保存\n",
    "\n",
    "np.save(\"/root/userspace/data/data/vgg_array4.npy\", vgg_train4)"
   ]
  },
  {
   "cell_type": "code",
   "execution_count": 2,
   "metadata": {},
   "outputs": [
    {
     "name": "stdout",
     "output_type": "stream",
     "text": [
      "['12321\\n', '519802\\n', '5364337\\n']\n",
      "116\n"
     ]
    }
   ],
   "source": [
    "import numpy as np\n",
    "import os\n",
    "from PIL import Image\n",
    "\n",
    "tmp_1 = open('/root/userspace/data/text/imglist_test.txt', 'r')\n",
    "mol_list1 = tmp_1.readlines()\n",
    "\n",
    "print(mol_list1[0:3])\n",
    "print(len(mol_list1))"
   ]
  },
  {
   "cell_type": "code",
   "execution_count": 3,
   "metadata": {},
   "outputs": [
    {
     "name": "stdout",
     "output_type": "stream",
     "text": [
      "['12321', '519802', '5364337']\n"
     ]
    }
   ],
   "source": [
    "for i in range(len(mol_list1)):\n",
    "    mol_list1[i] = mol_list1[i].strip()\n",
    "\n",
    "print(mol_list1[0:3])"
   ]
  },
  {
   "cell_type": "code",
   "execution_count": 3,
   "metadata": {},
   "outputs": [
    {
     "name": "stdout",
     "output_type": "stream",
     "text": [
      "(283, 300, 300, 3)\n"
     ]
    }
   ],
   "source": [
    "valid_list1 =[]\n",
    "\n",
    "img_path = \"/root/userspace/data/image/mol_img_all/\"\n",
    "\n",
    "#train_list1 = mol_list1[0:1100]\n",
    "#train_list2 = mol_list1[1100:2200]\n",
    "#train_list3 = mol_list1[2200:3300]\n",
    "#train_list4 = mol_list1[3300:4370]\n",
    "#train_list5 = mol_list1[4370:5370]\n",
    "\n",
    "for file_name in mol_list1:\n",
    "    file_name = str(file_name)\n",
    "    tmp_img = Image.open(img_path + file_name + \".png\")\n",
    "    tmp_img = tmp_img.convert(\"RGB\")\n",
    "    tmp_array = np.asarray(tmp_img)\n",
    "    valid_list1.append(tmp_array)\n",
    "\n",
    "valid_array = np.array(valid_list1)\n",
    "print(valid_array.shape)\n",
    "\n",
    "np.save(\"/root/userspace/data/data/validx_array.npy\", valid_array)"
   ]
  },
  {
   "cell_type": "code",
   "execution_count": 4,
   "metadata": {},
   "outputs": [
    {
     "name": "stderr",
     "output_type": "stream",
     "text": [
      "Using TensorFlow backend.\n"
     ]
    },
    {
     "name": "stdout",
     "output_type": "stream",
     "text": [
      "(283, 9, 9, 512)\n"
     ]
    }
   ],
   "source": [
    "from keras.applications.vgg16 import VGG16\n",
    "encoder  = VGG16(weights='imagenet', input_shape=(300, 300, 3) ,include_top=False)\n",
    "\n",
    "# 画像データをVGGモデルに通す。入力時にf\n",
    "vgg_valid = encoder.predict(np.array(valid_array, dtype='f')/255)\n",
    "\n",
    "print(vgg_valid.shape)\n",
    "\n",
    "\n",
    "np.save(\"/root/userspace/data/data/vgg_valid.npy\", vgg_valid)"
   ]
  },
  {
   "cell_type": "code",
   "execution_count": 4,
   "metadata": {},
   "outputs": [
    {
     "name": "stdout",
     "output_type": "stream",
     "text": [
      "(116, 300, 300, 3)\n"
     ]
    }
   ],
   "source": [
    "import numpy as np\n",
    "import os\n",
    "from PIL import Image\n",
    "\n",
    "test_list1 =[]\n",
    "\n",
    "img_path = \"/root/userspace/data/image/mol_img_all/\"\n",
    "\n",
    "for file_name in mol_list1:\n",
    "    file_name = str(file_name)\n",
    "    tmp_img = Image.open(img_path + file_name + \".png\")\n",
    "    tmp_img = tmp_img.convert(\"RGB\")\n",
    "    tmp_array = np.asarray(tmp_img)\n",
    "    test_list1.append(tmp_array)\n",
    "\n",
    "test_array = np.array(test_list1)\n",
    "print(test_array.shape)\n",
    "\n",
    "np.save(\"/root/userspace/data/data/testx_array.npy\", test_array)"
   ]
  },
  {
   "cell_type": "code",
   "execution_count": 5,
   "metadata": {},
   "outputs": [
    {
     "name": "stderr",
     "output_type": "stream",
     "text": [
      "Using TensorFlow backend.\n"
     ]
    },
    {
     "name": "stdout",
     "output_type": "stream",
     "text": [
      "(116, 9, 9, 512)\n"
     ]
    }
   ],
   "source": [
    "from keras.applications.vgg16 import VGG16\n",
    "encoder  = VGG16(weights='imagenet', input_shape=(300, 300, 3) ,include_top=False)\n",
    "\n",
    "vgg_test = encoder.predict(np.array(test_array, dtype='f')/255)\n",
    "\n",
    "print(vgg_test.shape)\n",
    "\n",
    "np.save(\"/root/userspace/data/data/vgg_test.npy\", vgg_test)"
   ]
  },
  {
   "cell_type": "code",
   "execution_count": 7,
   "metadata": {},
   "outputs": [],
   "source": [
    "#np.save(\"/root/userspace/data/data/validx_array.npy\", valid_array)\n",
    "\n",
    "np.save(\"/root/userspace/data/data/testx_array.npy\", test_array)"
   ]
  },
  {
   "cell_type": "code",
   "execution_count": null,
   "metadata": {},
   "outputs": [],
   "source": []
  }
 ],
 "metadata": {
  "kernelspec": {
   "display_name": "Python 3",
   "language": "python",
   "name": "python3"
  },
  "language_info": {
   "codemirror_mode": {
    "name": "ipython",
    "version": 3
   },
   "file_extension": ".py",
   "mimetype": "text/x-python",
   "name": "python",
   "nbconvert_exporter": "python",
   "pygments_lexer": "ipython3",
   "version": "3.5.2"
  }
 },
 "nbformat": 4,
 "nbformat_minor": 2
}
